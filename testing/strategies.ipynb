{
 "cells": [
  {
   "cell_type": "code",
   "execution_count": null,
   "metadata": {},
   "outputs": [
    {
     "ename": "",
     "evalue": "",
     "output_type": "error",
     "traceback": [
      "\u001b[1;31mRunning cells with 'Python 3.12.3' requires the ipykernel package.\n",
      "\u001b[1;31mRun the following command to install 'ipykernel' into the Python environment. \n",
      "\u001b[1;31mCommand: '/bin/python3 -m pip install ipykernel -U --user --force-reinstall'"
     ]
    }
   ],
   "source": [
    "import yfinance as yf\n",
    "import pandas as pd\n",
    "\n",
    "def get_historical_data(ticker, period='1d', interval='1m'):\n",
    "    \"\"\"Fetch historical data for the given ticker.\"\"\"\n",
    "    data = yf.download(ticker, period=period, interval=interval)\n",
    "    return data\n",
    "\n",
    "def calculate_fibonacci_levels(high, low):\n",
    "    \"\"\"Calculate Fibonacci retracement levels.\"\"\"\n",
    "    diff = high - low\n",
    "    levels = {\n",
    "        '0.0%': high,\n",
    "        '23.6%': high - 0.236 * diff,\n",
    "        '38.2%': high - 0.382 * diff,\n",
    "        '50.0%': high - 0.5 * diff,\n",
    "        '61.8%': high - 0.618 * diff,\n",
    "        '100.0%': low\n",
    "    }\n",
    "    return levels\n",
    "\n",
    "def generate_signals(data, levels):\n",
    "    \"\"\"Generate buy/sell signals based on Fibonacci levels.\"\"\"\n",
    "    signals = pd.DataFrame(index=data.index)\n",
    "    signals['signal'] = 0\n",
    "\n",
    "    for index, row in data.iterrows():\n",
    "        if row['Close'] <= levels['100.0%']:\n",
    "            signals.at[index, 'signal'] = 1  # Buy signal\n",
    "        elif row['Close'] >= levels['0.0%']:\n",
    "            signals.at[index, 'signal'] = -1  # Sell signal\n",
    "\n",
    "    return signals\n",
    "\n",
    "# Fetch historical data\n",
    "ticker = 'AAPL'  # Example ticker\n",
    "data = get_historical_data(ticker)\n",
    "\n",
    "# Calculate high and low points in the data\n",
    "high = data['High'].max()\n",
    "low = data['Low'].min()\n",
    "\n",
    "# Calculate Fibonacci levels\n",
    "levels = calculate_fibonacci_levels(high, low)\n",
    "\n",
    "# Generate signals\n",
    "signals = generate_signals(data, levels)\n",
    "\n",
    "# Combine signals with the original data for visualization\n",
    "data = data.join(signals)\n",
    "\n",
    "print(data.tail())\n"
   ]
  },
  {
   "cell_type": "code",
   "execution_count": null,
   "metadata": {},
   "outputs": [],
   "source": []
  }
 ],
 "metadata": {
  "kernelspec": {
   "display_name": "Python 3",
   "language": "python",
   "name": "python3"
  },
  "language_info": {
   "name": "python",
   "version": "3.12.3"
  }
 },
 "nbformat": 4,
 "nbformat_minor": 2
}
