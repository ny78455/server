{
 "cells": [
  {
   "cell_type": "code",
   "execution_count": 1,
   "metadata": {},
   "outputs": [],
   "source": [
    "from alpaca_trade_api.rest import REST as StockClient"
   ]
  },
  {
   "cell_type": "code",
   "execution_count": 2,
   "metadata": {},
   "outputs": [],
   "source": [
    "from dotenv import load_dotenv\n",
    "import os\n",
    "load_dotenv()\n",
    "API_KEY = os.getenv('APCA_API_KEY_ID')\n",
    "API_SECRET = os.getenv('APCA_API_SECRET_KEY')\n",
    "BASE_URL = 'https://paper-api.alpaca.markets'\n",
    "stock_client = StockClient(API_KEY, API_SECRET, BASE_URL)"
   ]
  },
  {
   "cell_type": "code",
   "execution_count": 3,
   "metadata": {},
   "outputs": [],
   "source": [
    "from datetime import datetime, timedelta, date\n",
    "\n",
    "news = stock_client.get_news(symbol='BTCUSD', limit=50, start=date.today() - timedelta(days=15), end=date.today())\n"
   ]
  },
  {
   "cell_type": "code",
   "execution_count": 4,
   "metadata": {},
   "outputs": [],
   "source": [
    "headlines = []\n",
    "for i in range(len(news)):\n",
    "    headlines.append(news[i].headline)\n"
   ]
  },
  {
   "cell_type": "code",
   "execution_count": 5,
   "metadata": {},
   "outputs": [],
   "source": [
    "\n",
    "combined_content = ''\n",
    "for headline in headlines:\n",
    "    combined_content = combined_content+headline"
   ]
  },
  {
   "cell_type": "code",
   "execution_count": 6,
   "metadata": {},
   "outputs": [],
   "source": [
    "with open(\"combined.txt\", \"w\", encoding='utf-8') as file:\n",
    "    file.write(combined_content)"
   ]
  },
  {
   "cell_type": "code",
   "execution_count": 19,
   "metadata": {},
   "outputs": [
    {
     "data": {
      "text/plain": [
       "2100"
      ]
     },
     "execution_count": 19,
     "metadata": {},
     "output_type": "execute_result"
    }
   ],
   "source": [
    "len(combined_content)"
   ]
  },
  {
   "cell_type": "code",
   "execution_count": 20,
   "metadata": {},
   "outputs": [
    {
     "name": "stderr",
     "output_type": "stream",
     "text": [
      "Asking to truncate to max_length but no maximum length is provided and the model has no predefined maximum length. Default to no truncation.\n"
     ]
    },
    {
     "name": "stdout",
     "output_type": "stream",
     "text": [
      "Riot Platforms Reports Worse-Than-Expected Q2 Results: DetailsCoinbase Q2 Earnings Preview: Can Streak Of 5 Straight Beats Continue? 'We Underestimated Bitcoin ETF Strength,' Analyst Says. Small Caps Target Highest Close Since January 2022: What's Driving Markets Wednesday? Trump Launches Limited Edition Bitcoin-Themed Sneakers Following Bitcoin 2024 Keynote: Report. Strategic Bitcoin Reserve Could Be Paid For By Federal Reserve Earnings And Reevaluating Gold, Proposes Senator Lummis. Trump Raises $25M At Bitcoin Conference In Nashville, Second Highest Fundraiser Across Campaigns. XRP Outperforms Bitcoin, Ethereum To Rise As Top Gainer Today, Analyst Predicts 'Bullish Breakout' Nobel Laureate calls it 'Government Bailout Of A Scandal-Ridden Industry' Peter Schiff Hits Out At Michael Saylor, Slams Trend Of Having Bitcoin On Balance Sheets. Schiff: 'Companies Shouldn't Flat Out Gamble With Shareholder's Funds'\n"
     ]
    }
   ],
   "source": [
    "from transformers import BartTokenizer, BartForConditionalGeneration\n",
    "\n",
    "# Load the tokenizer and model\n",
    "tokenizer = BartTokenizer.from_pretrained('facebook/bart-large-cnn')\n",
    "model = BartForConditionalGeneration.from_pretrained('facebook/bart-large-cnn')\n",
    "\n",
    "# Function to split text into smaller chunks\n",
    "def split_into_chunks(text, max_length=102):\n",
    "    tokens = tokenizer.encode(text)\n",
    "    chunks = [tokens[i:i + max_length] for i in range(0, len(tokens), max_length)]\n",
    "    return chunks\n",
    "\n",
    "# Function to summarize text\n",
    "def summarize_text(chunks):\n",
    "    summary = []\n",
    "    for chunk in chunks:\n",
    "        input_ids = tokenizer.encode(chunk, return_tensors='pt', truncation=True)\n",
    "        summary_ids = model.generate(input_ids, max_length=400, min_length=30, do_sample=False)\n",
    "        summary.append(tokenizer.decode(summary_ids[0], skip_special_tokens=True))\n",
    "    return \" \".join(summary)\n",
    "\n",
    "\n",
    "# Split the content into smaller chunks and summarize each chunk\n",
    "chunks = split_into_chunks(combined_content)\n",
    "final_summary = summarize_text(chunks)\n",
    "\n",
    "print(final_summary)\n"
   ]
  },
  {
   "cell_type": "code",
   "execution_count": 11,
   "metadata": {},
   "outputs": [],
   "source": [
    "with open(\"summary.txt\", \"w\", encoding='utf-8') as file:\n",
    "    file.write(final_summary)"
   ]
  },
  {
   "cell_type": "code",
   "execution_count": 21,
   "metadata": {},
   "outputs": [
    {
     "name": "stdout",
     "output_type": "stream",
     "text": [
      "- Riot Platforms Reports Worse-Than-Expected Q2 Results: DetailsCoinbase Q2 Earnings Preview: Can Streak Of 5 Straight Beats Continue? 'We Underestimated Bitcoin ETF Strength,' Analyst Says.\n",
      "- Small Caps Target Highest Close Since January 2022: What's Driving Markets Wednesday? Trump Launches Limited Edition Bitcoin-Themed Sneakers Following Bitcoin 2024 Keynote: Report.\n",
      "- Strategic Bitcoin Reserve Could Be Paid For By Federal Reserve Earnings And Reevaluating Gold, Proposes Senator Lummis.\n",
      "- Trump Raises $25M At Bitcoin Conference In Nashville, Second Highest Fundraiser Across Campaigns.\n",
      "- XRP Outperforms Bitcoin, Ethereum To Rise As Top Gainer Today, Analyst Predicts 'Bullish Breakout' Nobel Laureate calls it 'Government Bailout Of A Scandal-Ridden Industry' Peter Schiff Hits Out At Michael Saylor, Slams Trend Of Having Bitcoin On Balance Sheets.\n",
      "- Schiff: 'Companies Shouldn't Flat Out Gamble With Shareholder's Funds'.\n"
     ]
    }
   ],
   "source": [
    "def format_summary_in_points(summary):\n",
    "    sentences = summary.split('. ')\n",
    "    points = '\\n'.join([f\"- {sentence.strip()}.\" for sentence in sentences if sentence.strip()])\n",
    "    return points\n",
    "\n",
    "final_summary_in_points = format_summary_in_points(final_summary)\n",
    "\n",
    "print(final_summary_in_points)"
   ]
  },
  {
   "cell_type": "code",
   "execution_count": null,
   "metadata": {},
   "outputs": [],
   "source": []
  }
 ],
 "metadata": {
  "kernelspec": {
   "display_name": "myenv",
   "language": "python",
   "name": "python3"
  },
  "language_info": {
   "codemirror_mode": {
    "name": "ipython",
    "version": 3
   },
   "file_extension": ".py",
   "mimetype": "text/x-python",
   "name": "python",
   "nbconvert_exporter": "python",
   "pygments_lexer": "ipython3",
   "version": "3.12.3"
  }
 },
 "nbformat": 4,
 "nbformat_minor": 2
}
