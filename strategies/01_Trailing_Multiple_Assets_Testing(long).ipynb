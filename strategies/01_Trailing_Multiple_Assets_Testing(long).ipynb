{
 "cells": [
  {
   "cell_type": "markdown",
   "metadata": {},
   "source": [
    "### 1 - Import test data"
   ]
  },
  {
   "cell_type": "code",
   "execution_count": 3,
   "metadata": {},
   "outputs": [],
   "source": [
    "import pandas as pd\n",
    "import pandas_ta as ta\n",
    "from tqdm import tqdm\n",
    "import os\n",
    "tqdm.pandas()\n",
    "import numpy as np\n",
    "import pandas as pd\n",
    "import pandas_ta as ta\n",
    "from binance.client import Client\n",
    "from tqdm import tqdm\n",
    "\n",
    "# Initialize Binance client\n",
    "client = Client()\n",
    "\n",
    "def fetch_klines_for_ticker(ticker, interval, start_time):\n",
    "    \"\"\"\n",
    "    Fetch historical klines (CloseV data) from Binance for a specific ticker.\n",
    "    \"\"\"\n",
    "    df = client.get_historical_klines(ticker, interval, start_time)\n",
    "    columns = [\n",
    "        'Open time', 'Open', 'High', 'Low', 'Close', 'Volume1',\n",
    "        'Close time', 'Volume', 'Adj Close',\n",
    "        'Taker buy base asset volume', 'Taker buy quote asset volume', 'Ignore'\n",
    "    ]\n",
    "    df = pd.DataFrame(df, columns=columns)\n",
    "\n",
    "    # Drop unnecessary columns\n",
    "    df = df.drop(['Close time', 'Volume1', 'Taker buy base asset volume', \n",
    "                  'Taker buy quote asset volume', 'Ignore'], axis='columns')\n",
    "\n",
    "    # Convert columns to numeric\n",
    "    df['Open'] = pd.to_numeric(df['Open'], errors='coerce')\n",
    "    df['High'] = pd.to_numeric(df['High'], errors='coerce')\n",
    "    df['Low'] = pd.to_numeric(df['Low'], errors='coerce')\n",
    "    df['Close'] = pd.to_numeric(df['Close'], errors='coerce')\n",
    "    df['Volume'] = pd.to_numeric(df['Volume'], errors='coerce')\n",
    "    df['Adj Close'] = pd.to_numeric(df['Adj Close'], errors='coerce')\n",
    "\n",
    "    # Convert 'Open time' to datetime and set it as the index\n",
    "    df['Datetime'] = pd.to_datetime(df['Open time'], unit='ms')\n",
    "    df = df.drop(['Open time'], axis='columns')\n",
    "    df.set_index('Datetime', inplace=True)\n",
    "    df.index = df.index.tz_localize('UTC')\n",
    "\n",
    "    # Calculate technical indicators\n",
    "    df[\"EMA_slow\"] = ta.ema(df['Close'], length=50)\n",
    "    df[\"EMA_fast\"] = ta.ema(df['Close'], length=40)\n",
    "    df['ATR'] = ta.atr(df['High'], df['Low'], df['Close'], length=7)\n",
    "\n",
    "    # Remove rows that do not have enough data for indicators\n",
    "    df = df[51:]\n",
    "    \n",
    "    return df\n",
    "\n",
    "def fetch_multiple_tickers(tickers, interval=\"1m\", days_ago=\"5 day ago UTC\"):\n",
    "    \"\"\"\n",
    "    Fetch historical data for multiple tickers.\n",
    "    \n",
    "    Parameters:\n",
    "        tickers (str): Comma-separated ticker symbols (e.g., \"BTCUSDT,ETHUSDT\").\n",
    "        interval (str): Time interval for the kline data (e.g., \"1m\" for 1-minute).\n",
    "        days_ago (str): The starting time for historical data (e.g., \"5 day ago UTC\").\n",
    "        \n",
    "    Returns:\n",
    "        dict: A dictionary where keys are ticker symbols and values are DataFrames of the CloseV data.\n",
    "    \"\"\"\n",
    "    tickers_list = [ticker.strip() for ticker in tickers.split(\",\")]\n",
    "    ticker_data = {}\n",
    "    \n",
    "    for ticker in tqdm(tickers_list):\n",
    "        df = fetch_klines_for_ticker(ticker, interval, days_ago)\n",
    "        ticker_data[ticker] = df\n",
    "        \n",
    "    return ticker_data\n",
    "\n",
    "def apply_technical_indicators(df):\n",
    "    df[\"EMA_slow\"] = ta.ema(df.Close, length=200)\n",
    "    df[\"EMA_fast\"] = ta.ema(df.Close, length=150)\n",
    "    df['RSI'] = ta.rsi(df.Close, length=18)\n",
    "    my_bbands = ta.bbands(df.Close, length=20, std=2.0)\n",
    "    df['ATR'] = ta.atr(df.High, df.Low, df.Close, length=15)\n",
    "    df = df.join(my_bbands)\n",
    "    return df\n",
    "\n",
    "def ema_signal(df, current_candle, backcandles):\n",
    "    df_slice = df.reset_index().copy()\n",
    "    # Get the range of candles to consider\n",
    "    start = max(0, current_candle - backcandles)\n",
    "    end = current_candle\n",
    "    relevant_rows = df_slice.iloc[start:end]\n",
    "\n",
    "    # Check if all EMA_fast values are below EMA_slow values\n",
    "    if all(relevant_rows[\"EMA_fast\"] < relevant_rows[\"EMA_slow\"]):\n",
    "        return 1\n",
    "    elif all(relevant_rows[\"EMA_fast\"] > relevant_rows[\"EMA_slow\"]):\n",
    "        return 2\n",
    "    else:\n",
    "        return 0\n",
    "    \n",
    "def update_dataframe_ema_signal(df):\n",
    "    df.reset_index(inplace=True)\n",
    "    df['EMASignal'] = df.progress_apply(lambda row: ema_signal(df, row.name, 7) if row.name >= 20 else 0, axis=1)\n",
    "    return df\n",
    "\n",
    "def total_signal(df, current_candle, backcandles):\n",
    "    c_BB_width =  (abs(df['BBL_20_2.0'][current_candle] - df['BBU_20_2.0'][current_candle]) / df['BBL_20_2.0'][current_candle]) > 0.0015\n",
    "    if (ema_signal(df, current_candle, backcandles)==2\n",
    "        and df.Close[current_candle]<=df['BBL_20_2.0'][current_candle]\n",
    "        and c_BB_width\n",
    "        and all(df.iloc[current_candle-backcandles:current_candle][\"RSI\"] >= 30)\n",
    "        ):\n",
    "            return 2\n",
    "    if (ema_signal(df, current_candle, backcandles)==1\n",
    "        and df.Close[current_candle]>=df['BBU_20_2.0'][current_candle]\n",
    "        and c_BB_width\n",
    "        and all(df.iloc[current_candle-backcandles:current_candle][\"RSI\"] <= 70)\n",
    "        ):\n",
    "    \n",
    "            return 1\n",
    "    return 0\n",
    "\n",
    "def add_total_signal(df):\n",
    "    df['TotalSignal'] = df.progress_apply(lambda row: total_signal(df, row.name, 7), axis=1)\n",
    "    return df\n",
    "\n",
    "def candles_trend_signal(df, current_candle, backcandles):\n",
    "    \"\"\"\n",
    "    This function calculates the total signal based on the following criteria:\n",
    "    - If the previous 'backcandles' candles are all above the corresponding EMA values, it returns 2 (bullish).\n",
    "    - If the previous 'backcandles' candles are all below the corresponding EMA values, it returns 1 (bearish).\n",
    "    - Otherwise, it returns 0 (neutral).\n",
    "    \n",
    "    Parameters:\n",
    "    df (DataFrame): DataFrame containing the stock data with 'High', 'Low', and 'EMA_fast' columns.\n",
    "    current_candle (int): The index of the current candle.\n",
    "    backcandles (int): The number of previous candles to check.\n",
    "    \n",
    "    Returns:\n",
    "    int: Signal value (2 for bullish, 1 for bearish, 0 for neutral).\n",
    "    \"\"\"\n",
    "    bullish = True\n",
    "    bearish = True\n",
    "\n",
    "    for i in range(current_candle - backcandles, current_candle+1):\n",
    "        if i < 0:\n",
    "            return 0  # Not enough data to evaluate\n",
    "        \n",
    "        if df.High[i] <= df['EMA_fast'][i] or df.Low[i] <= df['EMA_fast'][i]:\n",
    "            bullish = False\n",
    "        \n",
    "        if df.High[i] >= df['EMA_fast'][i] or df.Low[i] >= df['EMA_fast'][i]:\n",
    "            bearish = False\n",
    "\n",
    "    if bullish:\n",
    "        return 2\n",
    "    if bearish:\n",
    "        return 1\n",
    "    return 0\n",
    "\n",
    "def update_total_signal(df, backcandles=5):\n",
    "    # Calculate signal for all candles\n",
    "    df['candle_trend_signal'] = [candles_trend_signal(df, x, backcandles=backcandles) if x >= backcandles else 0 for x in tqdm(df.index)]\n",
    "    df['TotalSignal'] = df.apply(lambda row: row['TotalSignal'] if row['TotalSignal'] == row['candle_trend_signal'] else 0, axis=1)\n",
    "    return df"
   ]
  },
  {
   "cell_type": "code",
   "execution_count": 4,
   "metadata": {},
   "outputs": [
    {
     "name": "stderr",
     "output_type": "stream",
     "text": [
      "  0%|          | 0/4 [00:00<?, ?it/s]"
     ]
    },
    {
     "name": "stderr",
     "output_type": "stream",
     "text": [
      "100%|██████████| 4/4 [00:15<00:00,  3.78s/it]\n"
     ]
    },
    {
     "name": "stdout",
     "output_type": "stream",
     "text": [
      "Working on dataframe for BTCUSDT...\n"
     ]
    },
    {
     "name": "stderr",
     "output_type": "stream",
     "text": [
      "100%|██████████| 7149/7149 [00:11<00:00, 604.58it/s]\n",
      "100%|██████████| 7149/7149 [00:21<00:00, 325.26it/s]\n",
      "100%|██████████| 7149/7149 [00:00<00:00, 7178.68it/s]\n"
     ]
    },
    {
     "name": "stdout",
     "output_type": "stream",
     "text": [
      "Working on dataframe for ETHUSDT...\n"
     ]
    },
    {
     "name": "stderr",
     "output_type": "stream",
     "text": [
      "100%|██████████| 7149/7149 [00:09<00:00, 727.80it/s]\n",
      "100%|██████████| 7149/7149 [00:22<00:00, 322.42it/s]\n",
      "100%|██████████| 7149/7149 [00:00<00:00, 7224.25it/s]\n"
     ]
    },
    {
     "name": "stdout",
     "output_type": "stream",
     "text": [
      "Working on dataframe for BNBUSDT...\n"
     ]
    },
    {
     "name": "stderr",
     "output_type": "stream",
     "text": [
      "100%|██████████| 7149/7149 [00:09<00:00, 722.22it/s]\n",
      "100%|██████████| 7149/7149 [00:22<00:00, 322.63it/s]\n",
      "100%|██████████| 7149/7149 [00:00<00:00, 7198.51it/s]\n"
     ]
    },
    {
     "name": "stdout",
     "output_type": "stream",
     "text": [
      "Working on dataframe for AVAXUSDT...\n"
     ]
    },
    {
     "name": "stderr",
     "output_type": "stream",
     "text": [
      "100%|██████████| 7149/7149 [00:09<00:00, 719.40it/s]\n",
      "100%|██████████| 7149/7149 [00:22<00:00, 321.14it/s]\n",
      "100%|██████████| 7149/7149 [00:00<00:00, 7277.97it/s]\n"
     ]
    }
   ],
   "source": [
    "tickers = \"BTCUSDT, ETHUSDT, BNBUSDT, AVAXUSDT\"\n",
    "dataframes = fetch_multiple_tickers(tickers, interval=Client.KLINE_INTERVAL_1MINUTE, days_ago=\"5 day ago UTC\")\n",
    "\n",
    "for ticker, df in dataframes.items():  # Iterate over dictionary values\n",
    "    print(f\"Working on dataframe for {ticker}...\")\n",
    "    df = apply_technical_indicators(df)\n",
    "    df = update_dataframe_ema_signal(df)\n",
    "    df = add_total_signal(df)\n",
    "    df = update_total_signal(df)\n",
    "    dataframes[ticker] = df "
   ]
  },
  {
   "cell_type": "code",
   "execution_count": 5,
   "metadata": {},
   "outputs": [
    {
     "data": {
      "text/plain": [
       "TotalSignal\n",
       "0    28185\n",
       "1      205\n",
       "2      206\n",
       "Name: count, dtype: int64"
      ]
     },
     "execution_count": 5,
     "metadata": {},
     "output_type": "execute_result"
    }
   ],
   "source": [
    "sum([frame[\"TotalSignal\"].value_counts() for frame in dataframes.values()])"
   ]
  },
  {
   "cell_type": "code",
   "execution_count": 6,
   "metadata": {},
   "outputs": [
    {
     "name": "stderr",
     "output_type": "stream",
     "text": [
      "/home/nitin/Downloads/Project/myenv/lib/python3.12/site-packages/tqdm/auto.py:21: TqdmWarning:\n",
      "\n",
      "IProgress not found. Please update jupyter and ipywidgets. See https://ipywidgets.readthedocs.io/en/stable/user_install.html\n",
      "\n"
     ]
    }
   ],
   "source": [
    "from backtesting import Strategy\n",
    "from backtesting import Backtest\n",
    "\n",
    "def SIGNAL():\n",
    "    return df.TotalSignal\n",
    "\n",
    "class MyStrat(Strategy):\n",
    "    mysize = 0.1\n",
    "    slcoef = 2\n",
    "    \n",
    "    def init(self):\n",
    "        super().init()\n",
    "        self.signal1 = self.I(SIGNAL)\n",
    "\n",
    "    def next(self):\n",
    "        super().next()\n",
    "        slatr = self.slcoef*self.data.ATR[-1]\n",
    "        \n",
    "        for trade in self.trades: \n",
    "            if trade.is_long: \n",
    "                trade.sl = max(trade.sl or -np.inf, self.data.Close[-1] - slatr)\n",
    "            else:\n",
    "                trade.sl = min(trade.sl or np.inf, self.data.Close[-1] + slatr) \n",
    "\n",
    "        if self.signal1==2 and len(self.trades)==0:\n",
    "            sl1 = self.data.Close[-1] - slatr\n",
    "            self.buy(sl=sl1, size=self.mysize)\n",
    "        \n",
    "        elif self.signal1==1 and len(self.trades)==0:         \n",
    "            sl1 = self.data.Close[-1] + slatr\n",
    "            self.sell(sl=sl1, size=self.mysize)"
   ]
  },
  {
   "cell_type": "code",
   "execution_count": 7,
   "metadata": {},
   "outputs": [
    {
     "name": "stderr",
     "output_type": "stream",
     "text": [
      "/tmp/ipykernel_53575/157358564.py:5: UserWarning:\n",
      "\n",
      "Data index is not datetime. Assuming simple periods, but `pd.DateTimeIndex` is advised.\n",
      "\n",
      "/tmp/ipykernel_53575/157358564.py:5: UserWarning:                 \n",
      "\n",
      "Data index is not datetime. Assuming simple periods, but `pd.DateTimeIndex` is advised.\n",
      "\n",
      "/tmp/ipykernel_53575/157358564.py:5: UserWarning:                 \n",
      "\n",
      "Data index is not datetime. Assuming simple periods, but `pd.DateTimeIndex` is advised.\n",
      "\n",
      "/tmp/ipykernel_53575/157358564.py:5: UserWarning:                 \n",
      "\n",
      "Data index is not datetime. Assuming simple periods, but `pd.DateTimeIndex` is advised.\n",
      "\n",
      "                                                                  \r"
     ]
    }
   ],
   "source": [
    "results = []\n",
    "\n",
    "# Loop over the values of the dictionary, which are the DataFrames\n",
    "for df in dataframes.values():\n",
    "    bt = Backtest(df, MyStrat, cash=250000, margin=1/10, commission=0.0002)\n",
    "    stats, heatmap = bt.optimize(slcoef=[i/10 for i in range(8, 31)],\n",
    "                        maximize='Return [%]', max_tries=3000,\n",
    "                        random_state=0,\n",
    "                        return_heatmap=True)\n",
    "    results.append(stats)\n"
   ]
  },
  {
   "cell_type": "code",
   "execution_count": 8,
   "metadata": {},
   "outputs": [
    {
     "name": "stdout",
     "output_type": "stream",
     "text": [
      "Trend Window: 1, Accuracy: 50.12%\n",
      "Trend Window: 2, Accuracy: 65.45%\n",
      "Trend Window: 3, Accuracy: 70.56%\n",
      "Trend Window: 4, Accuracy: 74.45%\n",
      "Trend Window: 5, Accuracy: 78.35%\n",
      "Trend Window: 6, Accuracy: 80.29%\n",
      "Trend Window: 7, Accuracy: 81.27%\n",
      "Trend Window: 8, Accuracy: 82.24%\n",
      "Trend Window: 9, Accuracy: 83.45%\n",
      "Trend Window: 10, Accuracy: 85.16%\n",
      "Trend Window: 11, Accuracy: 85.89%\n",
      "Trend Window: 12, Accuracy: 86.37%\n",
      "Trend Window: 13, Accuracy: 86.86%\n",
      "Trend Window: 14, Accuracy: 88.08%\n",
      "Trend Window: 15, Accuracy: 88.56%\n",
      "Trend Window: 16, Accuracy: 89.29%\n",
      "Trend Window: 17, Accuracy: 89.78%\n",
      "Trend Window: 18, Accuracy: 90.02%\n",
      "Trend Window: 19, Accuracy: 90.51%\n",
      "Trend Window: 20, Accuracy: 90.51%\n",
      "Trend Window: 21, Accuracy: 90.51%\n",
      "Trend Window: 22, Accuracy: 90.75%\n",
      "Trend Window: 23, Accuracy: 91.00%\n",
      "Trend Window: 24, Accuracy: 91.00%\n",
      "Trend Window: 25, Accuracy: 91.00%\n",
      "Trend Window: 26, Accuracy: 91.00%\n",
      "Trend Window: 27, Accuracy: 91.24%\n",
      "Trend Window: 28, Accuracy: 91.48%\n",
      "Trend Window: 29, Accuracy: 91.48%\n"
     ]
    }
   ],
   "source": [
    "def check_signals_accuracy(df, trend_window):\n",
    "    # Shift the 'Close' column for the trend window\n",
    "    for i in range(1, trend_window + 1):\n",
    "        df[f'Close_{i}'] = df['Close'].shift(-i)\n",
    "\n",
    "    # Initialize columns to check trend correctness\n",
    "    df['Correct'] = 0\n",
    "\n",
    "    # For bearish signals (1), check if prices are lower for the trend_window period\n",
    "    df.loc[(df['TotalSignal'] == 1) & (df[[f'Close_{i}' for i in range(1, trend_window + 1)]].min(axis=1) < df['Close']), 'Correct'] = 1\n",
    "\n",
    "    # For bullish signals (2), check if prices are higher for the trend_window period\n",
    "    df.loc[(df['TotalSignal'] == 2) & (df[[f'Close_{i}' for i in range(1, trend_window + 1)]].max(axis=1) > df['Close']), 'Correct'] = 1\n",
    "\n",
    "    # Return the count of correct signals\n",
    "    correct_signals = df['Correct'].sum()\n",
    "    total_signals = len(df[df['TotalSignal'] != 0])  # Only count non-zero signals\n",
    "\n",
    "    return correct_signals, total_signals\n",
    "\n",
    "# Iterate through all DataFrames and calculate accuracy for trend windows from 1 to 10\n",
    "results_ = {}\n",
    "\n",
    "for trend_window in range(1, 30):  # Iterate from trend_window 1 to 10\n",
    "    total_correct_signals = 0\n",
    "    total_signals = 0\n",
    "\n",
    "    for df in dataframes.values():\n",
    "        correct_signals, total_signals_in_df = check_signals_accuracy(df, trend_window)\n",
    "        total_correct_signals += correct_signals\n",
    "        total_signals += total_signals_in_df\n",
    "\n",
    "    # Calculate the overall accuracy for the current trend window\n",
    "    if total_signals > 0:\n",
    "        accuracy = (total_correct_signals / total_signals) * 100\n",
    "        results_[trend_window] = accuracy\n",
    "        print(f\"Trend Window: {trend_window}, Accuracy: {accuracy:.2f}%\")\n",
    "    else:\n",
    "        print(f\"Trend Window: {trend_window}, No valid signals found.\")\n",
    "        results_[trend_window] = None\n"
   ]
  },
  {
   "cell_type": "code",
   "execution_count": null,
   "metadata": {},
   "outputs": [],
   "source": []
  },
  {
   "cell_type": "code",
   "execution_count": 18,
   "metadata": {},
   "outputs": [],
   "source": [
    "import pandas as pd\n",
    "import plotly.graph_objects as go\n",
    "\n",
    "# Sample DataFrame with OHLC (Open, High, Low, Close) and signals\n",
    "# Replace this with your full 100-candlestick DataFrame\n",
    "\n",
    "# Split the data into 10 segments of 10 candlesticks each\n",
    "segments = [df[i:i+300] for i in range(0, len(df), 300)]\n",
    "\n",
    "# Create separate charts for each segment and open them in the browser\n",
    "for idx, segment in enumerate(segments):\n",
    "    # Create the base candlestick chart\n",
    "    fig = go.Figure()\n",
    "\n",
    "    # Add candlestick chart using OHLC data\n",
    "    fig.add_trace(go.Candlestick(\n",
    "        x=segment.index,\n",
    "        open=segment['Open'],\n",
    "        high=segment['High'],\n",
    "        low=segment['Low'],\n",
    "        close=segment['Close'],\n",
    "        name='Candlesticks'\n",
    "    ))\n",
    "\n",
    "    # Plot Buy (Bullish) signals (TotalSignal == 2)\n",
    "    fig.add_trace(go.Scatter(\n",
    "        x=segment[segment['TotalSignal'] == 2].index, \n",
    "        y=segment[segment['TotalSignal'] == 2]['Close'], \n",
    "        mode='markers', \n",
    "        name='Bullish (Buy)', \n",
    "        marker=dict(symbol='triangle-up', color='green', size=10)\n",
    "    ))\n",
    "\n",
    "    # Plot Sell (Bearish) signals (TotalSignal == 1)\n",
    "    fig.add_trace(go.Scatter(\n",
    "        x=segment[segment['TotalSignal'] == 1].index, \n",
    "        y=segment[segment['TotalSignal'] == 1]['Close'], \n",
    "        mode='markers', \n",
    "        name='Bearish (Sell)', \n",
    "        marker=dict(symbol='triangle-down', color='red', size=10)\n",
    "    ))\n",
    "\n",
    "    # Customize the layout\n",
    "    fig.update_layout(\n",
    "        title=f'Candlestick Chart with Trading Signals (Segment {idx+1})',\n",
    "        xaxis_title='Time',\n",
    "        yaxis_title='Price',\n",
    "        showlegend=True,\n",
    "        template=\"plotly_white\"\n",
    "    )\n",
    "\n",
    "    # Show the plot in the browser\n",
    "    fig.show(renderer=\"browser\")\n"
   ]
  },
  {
   "cell_type": "code",
   "execution_count": 113,
   "metadata": {},
   "outputs": [
    {
     "name": "stdout",
     "output_type": "stream",
     "text": [
      "Aggregated Returns: 16.35%\n",
      "Number of Trades: 169.0\n",
      "Maximum Drawdown: -13.54%\n",
      "Average Drawdown: -1.70%\n",
      "Win Rate: 39.38%\n",
      "Best Trade: 8.17%\n",
      "Worst Trade: -5.10%\n",
      "Average Trade: 0.10%\n",
      "Maximum Trade Duration: 90.0 days\n",
      "Average Trade Duration: 12.40 days\n"
     ]
    }
   ],
   "source": [
    "agg_returns = sum([r[\"Return [%]\"] for r in results])\n",
    "num_trades = sum([r[\"# Trades\"] for r in results])\n",
    "max_drawdown = min([r[\"Max. Drawdown [%]\"] for r in results])\n",
    "avg_drawdown = sum([r[\"Avg. Drawdown [%]\"] for r in results]) / len(results)\n",
    "\n",
    "win_rate = sum([r[\"Win Rate [%]\"] for r in results]) / len(results)\n",
    "best_trade = max([r[\"Best Trade [%]\"] for r in results])\n",
    "worst_trade = min([r[\"Worst Trade [%]\"] for r in results])\n",
    "avg_trade = sum([r[\"Avg. Trade [%]\"] for r in results]) / len(results)\n",
    "max_trade_duration = max([r[\"Max. Trade Duration\"] for r in results])\n",
    "avg_trade_duration = sum([r[\"Avg. Trade Duration\"] for r in results]) / len(results)\n",
    "\n",
    "print(f\"Aggregated Returns: {agg_returns:.2f}%\")\n",
    "print(f\"Number of Trades: {num_trades}\")\n",
    "print(f\"Maximum Drawdown: {max_drawdown:.2f}%\")\n",
    "print(f\"Average Drawdown: {avg_drawdown:.2f}%\")\n",
    "print(f\"Win Rate: {win_rate:.2f}%\")\n",
    "print(f\"Best Trade: {best_trade:.2f}%\")\n",
    "print(f\"Worst Trade: {worst_trade:.2f}%\")\n",
    "print(f\"Average Trade: {avg_trade:.2f}%\")\n",
    "print(f\"Maximum Trade Duration: {max_trade_duration} days\")\n",
    "print(f\"Average Trade Duration: {avg_trade_duration:.2f} days\")\n"
   ]
  },
  {
   "cell_type": "code",
   "execution_count": 114,
   "metadata": {},
   "outputs": [],
   "source": [
    "equity_curves = [stats['_equity_curve']['Equity'] for stats in results]\n",
    "max_length = max(len(equity) for equity in equity_curves)\n",
    "\n",
    "# Pad each equity curve with the last value to match the maximum length\n",
    "padded_equity_curves = []\n",
    "for equity in equity_curves:\n",
    "    last_value = equity.iloc[-1]\n",
    "    padding = [last_value] * (max_length - len(equity))\n",
    "    padded_equity = equity.tolist() + padding\n",
    "    padded_equity_curves.append(padded_equity)\n",
    "\n",
    "equity_df = pd.DataFrame(padded_equity_curves).T"
   ]
  },
  {
   "cell_type": "code",
   "execution_count": 115,
   "metadata": {},
   "outputs": [
    {
     "data": {
      "image/png": "[encoded data removed]",
      "text/plain": [
       "<Figure size 1000x600 with 1 Axes>"
      ]
     },
     "metadata": {},
     "output_type": "display_data"
    }
   ],
   "source": [
    "import matplotlib.pyplot as plt\n",
    "\n",
    "equity_df.plot(kind='line', figsize=(10, 6), legend=False).set_facecolor('black')\n",
    "plt.gca().spines['bottom'].set_color('black')\n",
    "plt.gca().spines['left'].set_color('black')\n",
    "plt.gca().tick_params(axis='x', colors='black')\n",
    "plt.gca().tick_params(axis='y', colors='black')\n",
    "plt.gca().set_facecolor('black')"
   ]
  },
  {
   "cell_type": "code",
   "execution_count": 68,
   "metadata": {},
   "outputs": [
    {
     "data": {
      "text/plain": [
       "[0.9332641473708906,\n",
       " -1.6162017502574018,\n",
       " 0.9702335444817436,\n",
       " -3.1156218682677017]"
      ]
     },
     "execution_count": 68,
     "metadata": {},
     "output_type": "execute_result"
    }
   ],
   "source": [
    "[r[\"Return [%]\"] for r in results]"
   ]
  },
  {
   "cell_type": "code",
   "execution_count": null,
   "metadata": {},
   "outputs": [],
   "source": []
  }
 ],
 "metadata": {
  "kernelspec": {
   "display_name": "Python 3.10.8 64-bit",
   "language": "python",
   "name": "python3"
  },
  "language_info": {
   "codemirror_mode": {
    "name": "ipython",
    "version": 3
   },
   "file_extension": ".py",
   "mimetype": "text/x-python",
   "name": "python",
   "nbconvert_exporter": "python",
   "pygments_lexer": "ipython3",
   "version": "3.12.3"
  },
  "vscode": {
   "interpreter": {
    "hash": "c0ff92a541b5eb8a0f75470c34280cf0dea79e8b819847822bd36e33345fddf3"
   }
  }
 },
 "nbformat": 4,
 "nbformat_minor": 2
}
